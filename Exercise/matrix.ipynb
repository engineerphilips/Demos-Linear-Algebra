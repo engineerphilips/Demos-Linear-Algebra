{
 "cells": [
  {
   "cell_type": "code",
   "execution_count": 1,
   "metadata": {},
   "outputs": [],
   "source": [
    "import numpy as np\n",
    "\n",
    "A = np.array([[1, 2, 3],\n",
    "              [4, 5, 6],\n",
    "              [8, 9, 10]])"
   ]
  },
  {
   "cell_type": "code",
   "execution_count": 2,
   "metadata": {},
   "outputs": [
    {
     "name": "stdout",
     "output_type": "stream",
     "text": [
      "Upper triangular matrix\n",
      " [[ 1  2  3]\n",
      " [ 0  5  6]\n",
      " [ 0  0 10]]\n"
     ]
    }
   ],
   "source": [
    "\n",
    "B = np.triu(A)\n",
    "print(\"Upper triangular matrix\\n\",B)"
   ]
  },
  {
   "cell_type": "code",
   "execution_count": 3,
   "metadata": {},
   "outputs": [
    {
     "name": "stdout",
     "output_type": "stream",
     "text": [
      "Lower triangular matrix\n",
      " [[ 1  0  0]\n",
      " [ 0  5  0]\n",
      " [ 0  0 10]]\n"
     ]
    }
   ],
   "source": [
    "\n",
    "C = np.tril(B)\n",
    "print(\"Lower triangular matrix\\n\",C)"
   ]
  },
  {
   "cell_type": "code",
   "execution_count": 4,
   "metadata": {},
   "outputs": [
    {
     "name": "stdout",
     "output_type": "stream",
     "text": [
      "Transpose of a:\n",
      " [[ 1  0  0]\n",
      " [ 0  5  0]\n",
      " [ 0  0 10]]\n"
     ]
    }
   ],
   "source": [
    "transposed_matrix = C.transpose()\n",
    "print(\"Transpose of a:\\n\" , transposed_matrix)"
   ]
  }
 ],
 "metadata": {
  "kernelspec": {
   "display_name": "Python 3",
   "language": "python",
   "name": "python3"
  },
  "language_info": {
   "codemirror_mode": {
    "name": "ipython",
    "version": 3
   },
   "file_extension": ".py",
   "mimetype": "text/x-python",
   "name": "python",
   "nbconvert_exporter": "python",
   "pygments_lexer": "ipython3",
   "version": "3.7.9"
  }
 },
 "nbformat": 4,
 "nbformat_minor": 2
}
